{
 "cells": [
  {
   "cell_type": "code",
   "execution_count": null,
   "id": "eacef507",
   "metadata": {},
   "outputs": [],
   "source": [
    "!pip install pywebio"
   ]
  },
  {
   "cell_type": "code",
   "execution_count": 3,
   "id": "bbe6d457",
   "metadata": {},
   "outputs": [
    {
     "name": "stdout",
     "output_type": "stream",
     "text": [
      " * Serving Flask app \"__main__\" (lazy loading)\n",
      " * Environment: production\n",
      "\u001b[31m   WARNING: This is a development server. Do not use it in a production deployment.\u001b[0m\n",
      "\u001b[2m   Use a production WSGI server instead.\u001b[0m\n",
      " * Debug mode: off\n"
     ]
    },
    {
     "name": "stderr",
     "output_type": "stream",
     "text": [
      " * Running on http://localhost:80/ (Press CTRL+C to quit)\n",
      "127.0.0.1 - - [12/Jun/2024 14:16:53] \"GET /pywebio HTTP/1.1\" 200 -\n",
      "127.0.0.1 - - [12/Jun/2024 14:16:53] \"GET /pywebio?app=index HTTP/1.1\" 200 -\n"
     ]
    }
   ],
   "source": [
    "from pywebio.input import *\n",
    "from pywebio.output import *\n",
    "from pywebio.platform.flask import webio_view\n",
    "from flask import Flask\n",
    "app = Flask(__name__)\n",
    "\n",
    "def getStarted():\n",
    "    put_text('Hello World!')\n",
    "    \n",
    "    fname = 'Rishabh'\n",
    "    put_text('My name is %s' % fname)\n",
    "\n",
    "    lname = 'Bafna'\n",
    "    put_text('My name is %s %s' % (fname, lname))\n",
    "    \n",
    "    pic = 'Dehradun.jpg'\n",
    "    img = open(pic, 'rb').read()\n",
    "    put_image(img, width='100%')\n",
    "\n",
    "app.add_url_rule('/pywebio', 'webio_view', webio_view(getStarted), \n",
    "                 methods=['GET', 'POST', 'OPTIONS'])\n",
    "app.run(host='localhost', port=80)\n",
    "# http://localhost/pywebio"
   ]
  },
  {
   "cell_type": "code",
   "execution_count": null,
   "id": "35a4f238",
   "metadata": {},
   "outputs": [],
   "source": []
  },
  {
   "cell_type": "code",
   "execution_count": null,
   "id": "0bb279f9",
   "metadata": {},
   "outputs": [],
   "source": []
  },
  {
   "cell_type": "code",
   "execution_count": 5,
   "id": "b2949449",
   "metadata": {},
   "outputs": [
    {
     "name": "stdout",
     "output_type": "stream",
     "text": [
      " * Serving Flask app \"__main__\" (lazy loading)\n",
      " * Environment: production\n",
      "\u001b[31m   WARNING: This is a development server. Do not use it in a production deployment.\u001b[0m\n",
      "\u001b[2m   Use a production WSGI server instead.\u001b[0m\n",
      " * Debug mode: off\n"
     ]
    },
    {
     "name": "stderr",
     "output_type": "stream",
     "text": [
      " * Running on http://localhost:80/ (Press CTRL+C to quit)\n"
     ]
    }
   ],
   "source": [
    "from pywebio.input import *\n",
    "from pywebio.output import *\n",
    "from pywebio.platform.flask import webio_view\n",
    "from flask import Flask\n",
    "app = Flask(__name__)\n",
    "\n",
    "def getStarted():\n",
    "    put_html('<html lang=\"en\" dir=\"ltr\"><head><meta charset=\"utf-8\" /><title> Rishabh Bafna </title><style> body {  background-color: coral;} </style></head></html>')\n",
    "    put_html('<h1 style=\"font-size:20px; text-align:center; color:blue; background-color:powderblue;\"> Rishabh Bafna <br> Computer Science Department <br> Stanford University <br> </h1>') \n",
    "    put_html('<hr>')\n",
    "    put_html('<h1 style=\"font-size:20px; text-align:center; color:blue; \"> Rishabh Bafna <br> Computer Science Department <br> Stanford University <br> </h1>') \n",
    "    \n",
    "app.add_url_rule('/pywebio', 'webio_view', webio_view(getStarted), \n",
    "                 methods=['GET', 'POST', 'OPTIONS'])\n",
    "app.run(host='localhost', port=80)"
   ]
  }
 ],
 "metadata": {
  "kernelspec": {
   "display_name": "Python 3 (ipykernel)",
   "language": "python",
   "name": "python3"
  },
  "language_info": {
   "codemirror_mode": {
    "name": "ipython",
    "version": 3
   },
   "file_extension": ".py",
   "mimetype": "text/x-python",
   "name": "python",
   "nbconvert_exporter": "python",
   "pygments_lexer": "ipython3",
   "version": "3.9.12"
  }
 },
 "nbformat": 4,
 "nbformat_minor": 5
}
